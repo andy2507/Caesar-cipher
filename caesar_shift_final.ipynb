{
 "cells": [
  {
   "cell_type": "code",
   "execution_count": 1,
   "metadata": {},
   "outputs": [],
   "source": [
    "import string\n",
    "import spacy\n",
    "import nltk\n",
    "from nltk.corpus import words as words\n",
    "nlp = spacy.load('en_core_web_lg')"
   ]
  },
  {
   "cell_type": "code",
   "execution_count": 9,
   "metadata": {},
   "outputs": [],
   "source": [
    "#removing punctuation marks from text, and converting it to lower case\n",
    "def text(text):\n",
    "    text = text.lower()\n",
    "    exclude = set(string.punctuation)\n",
    "    text = ''.join(ch for ch in text if ch not in exclude)\n",
    "    text = text.split()\n",
    "    text = ''.join(text)\n",
    "    return text\n"
   ]
  },
  {
   "cell_type": "code",
   "execution_count": 10,
   "metadata": {},
   "outputs": [],
   "source": [
    "#using Caeser's shift to generate cipher text\n",
    "def encryption(t,shift):\n",
    "    if(shift<0):\n",
    "        shift = shift + 26\n",
    "    alpha = \"abcdefghijklmnopqrstuvwxyz\"\n",
    "    alpha = [a for a in alpha]\n",
    "    cipher = []\n",
    "    for i in range(len(t)):\n",
    "        for j in range(len(alpha)):\n",
    "            if(t[i]==alpha[j]):\n",
    "                c = j\n",
    "                if((c+shift)>=26): #if it exceeds the number of letters\n",
    "                    c = (c+shift)%26\n",
    "                else:\n",
    "                    c = c+shift\n",
    "                cipher.append(alpha[c])\n",
    "    return cipher"
   ]
  },
  {
   "cell_type": "code",
   "execution_count": 11,
   "metadata": {},
   "outputs": [],
   "source": [
    "#function to check if a given word is a valid word or not\n",
    "def check(w):\n",
    "    if(w in words.words()):\n",
    "        return 1\n",
    "    else:\n",
    "        return 0"
   ]
  },
  {
   "cell_type": "code",
   "execution_count": 12,
   "metadata": {},
   "outputs": [],
   "source": [
    "#generating different combinations of words from a text\n",
    "def gen(x):\n",
    "    count = 0\n",
    "    w = []\n",
    "    #lengths of combinations\n",
    "    for i in range(2,len(x)+1):\n",
    "        #no of combinations for each length\n",
    "        for j in range(len(x)-i+1):\n",
    "            s = []\n",
    "            for k in range(i):\n",
    "                s.append(x[k+j])\n",
    "            w.append(''.join(s))\n",
    "    return w"
   ]
  },
  {
   "cell_type": "code",
   "execution_count": 16,
   "metadata": {},
   "outputs": [],
   "source": [
    "def decryption(t):\n",
    "    for i in range(0,26):\n",
    "        #generating the sequence if i was the shift key\n",
    "        text = encryption(t,i)\n",
    "        #to track progress\n",
    "        print(\"Iteration %d: \"%i,''.join(text))\n",
    "        #generating combinations of words\n",
    "        w = gen(text)\n",
    "        c = []\n",
    "        #if words are valid, appending to c\n",
    "        for j in range(len(w)):\n",
    "            if check(w[j])==1:\n",
    "                c.append(w[j])\n",
    "        #condition to check if sufficient no of words are valid\n",
    "        if(len(c)>=len(text)*0.75):\n",
    "            #key: key that code is encrypted with, alpha: alphabets in order. concatenated_key is the concatenated version\n",
    "            key = encryption(\"abcdefghijklmnopqrstuvwxyz\",26-i)\n",
    "            alpha = [i for i in \"abcdefghijklmnopqrstuvwxyz\"]\n",
    "            concatenated_key = []\n",
    "            for k in range(26):\n",
    "                concatenated_key.append(\"%c = %c\"%(alpha[k],key[k]))\n",
    "            return(26-i,concatenated_key)\n",
    " "
   ]
  },
  {
   "cell_type": "code",
   "execution_count": 14,
   "metadata": {},
   "outputs": [
    {
     "name": "stdout",
     "output_type": "stream",
     "text": [
      "cipher =  ognmdrzqdudqxdwodmrhud\n",
      "Iteration 0:  ognmdrzqdudqxdwodmrhud\n",
      "Iteration 1:  phonesareveryexpensive\n",
      "(25, ['a = z', 'b = a', 'c = b', 'd = c', 'e = d', 'f = e', 'g = f', 'h = g', 'i = h', 'j = i', 'k = j', 'l = k', 'm = l', 'n = m', 'o = n', 'p = o', 'q = p', 'r = q', 's = r', 't = s', 'u = t', 'v = u', 'w = v', 'x = w', 'y = x', 'z = y'])\n"
     ]
    }
   ],
   "source": [
    "plaintext = \"phonesareveryexpensive\"\n",
    "print(\"cipher = \",''.join(encryption(plaintext,-1)))           \n",
    "print(decryption(encryption(plaintext,-1))) "
   ]
  },
  {
   "cell_type": "code",
   "execution_count": 17,
   "metadata": {},
   "outputs": [
    {
     "name": "stdout",
     "output_type": "stream",
     "text": [
      "Iteration 0:  pelcgbybtl\n",
      "Iteration 1:  qfmdhczcum\n",
      "Iteration 2:  rgneidadvn\n",
      "Iteration 3:  shofjebewo\n",
      "Iteration 4:  tipgkfcfxp\n",
      "Iteration 5:  ujqhlgdgyq\n",
      "Iteration 6:  vkrimhehzr\n",
      "Iteration 7:  wlsjnifias\n",
      "Iteration 8:  xmtkojgjbt\n",
      "Iteration 9:  ynulpkhkcu\n",
      "Iteration 10:  zovmqlildv\n",
      "Iteration 11:  apwnrmjmew\n",
      "Iteration 12:  bqxosnknfx\n",
      "Iteration 13:  cryptology\n",
      "(13, ['a = n', 'b = o', 'c = p', 'd = q', 'e = r', 'f = s', 'g = t', 'h = u', 'i = v', 'j = w', 'k = x', 'l = y', 'm = z', 'n = a', 'o = b', 'p = c', 'q = d', 'r = e', 's = f', 't = g', 'u = h', 'v = i', 'w = j', 'x = k', 'y = l', 'z = m'])\n"
     ]
    }
   ],
   "source": [
    "print(decryption(text(\"Pelcgbybtl\")))"
   ]
  },
  {
   "cell_type": "code",
   "execution_count": null,
   "metadata": {},
   "outputs": [],
   "source": []
  },
  {
   "cell_type": "code",
   "execution_count": null,
   "metadata": {},
   "outputs": [],
   "source": []
  }
 ],
 "metadata": {
  "kernelspec": {
   "display_name": "Python 3",
   "language": "python",
   "name": "python3"
  },
  "language_info": {
   "codemirror_mode": {
    "name": "ipython",
    "version": 3
   },
   "file_extension": ".py",
   "mimetype": "text/x-python",
   "name": "python",
   "nbconvert_exporter": "python",
   "pygments_lexer": "ipython3",
   "version": "3.7.6"
  }
 },
 "nbformat": 4,
 "nbformat_minor": 4
}
