{
 "cells": [
  {
   "cell_type": "code",
   "execution_count": 56,
   "metadata": {},
   "outputs": [],
   "source": [
    "import string\n",
    "import pandas as pd\n",
    "import numpy as np\n",
    "import seaborn as sns\n",
    "import matplotlib.pyplot as plt\n",
    "%matplotlib inline"
   ]
  },
  {
   "cell_type": "code",
   "execution_count": 57,
   "metadata": {},
   "outputs": [],
   "source": [
    "#removing punctuation marks from text, and converting it to lower case\n",
    "def text(text):\n",
    "    text = text.lower()\n",
    "    exclude = set(string.punctuation)\n",
    "    text = ''.join(ch for ch in text if ch not in exclude)\n",
    "    text = text.split()\n",
    "    text = ''.join(text)\n",
    "    return text\n"
   ]
  },
  {
   "cell_type": "code",
   "execution_count": 58,
   "metadata": {},
   "outputs": [],
   "source": [
    "#using Caeser's shift to generate cipher text\n",
    "def encryption(t,shift):\n",
    "    if(shift<0):\n",
    "        shift = shift + 26\n",
    "    alpha = \"abcdefghijklmnopqrstuvwxyz\"\n",
    "    alpha = [a for a in alpha]\n",
    "    cipher = []\n",
    "    for i in range(len(t)):\n",
    "        for j in range(len(alpha)):\n",
    "            if(t[i]==alpha[j]):\n",
    "                c = j\n",
    "                if((c+shift)>=26): #if it exceeds the number of letters\n",
    "                    c = (c+shift)%26\n",
    "                else:\n",
    "                    c = c+shift\n",
    "                cipher.append(alpha[c])\n",
    "    return cipher"
   ]
  },
  {
   "cell_type": "code",
   "execution_count": 59,
   "metadata": {},
   "outputs": [],
   "source": [
    "#frequency distribution of letters in general case as given by pi.math.cornell.edu\n",
    "dictionary = {'a':8.12,'b':1.49,'c':2.71,'d':4.32,'e':12.02,'f':2.30,'g':2.03,'h':5.92,'i':7.31,'j':0.1,'k':0.69,'l':3.98,'m':2.61,'n':6.95,'o':7.68,'p':1.82,'q':0.11,'r':6.02,'s':6.28,'t':9.10,'u':2.88,'v':1.11,'w':2.09,'x':0.17,'y':2.11,'z':0.07}"
   ]
  },
  {
   "cell_type": "code",
   "execution_count": 82,
   "metadata": {},
   "outputs": [],
   "source": [
    "text from the movie review of Avengers Infinity war by Roger Ebert on his website www.rogerebert.com"
    "text1 = \"Another downside of packing so many people into one film—so many that they apparently had to cut a few; the film's IMDb page lists numerous major players who are nowhere to be seen—is that you start to notice that certain characters are redundant variations on/photocopies of other characters, a realization that you might not have had if you were were watching them star in their own self-contained movies. Putting Tony, Peter Parker and Peter Quill in the same scenes, for instance, might sound like a slam dunk, but once you spend a few minutes with them, the barrage of wise-assery becomes grating. It's like being stuck at a party where every other guy in the room mistakenly believes he's the funny one. (The scenes between Thor and the Guardians are much better because Thor plays the straight man to Quill, who is threatened by his awesome masculine beauty.)As is often the case in Russo-directed Marvel movies, the humor comes across more vividly than the action. Captain America: The Winter Soldier, with its paranoid thriller stylings and brutal, close-quarters action, is still their zenith.) The movie makes excellent use of Thor and his trickster brother Loki (Tom Hiddleston), and gives Hemsworth more chances to show off his formidable deadpan (when Rocket expresses amazement that he can speak Groots language, he explains, They taught it on Asgard—it was an elective). But the joking around doesnt so much complement the films dark material as clash with it and undermine it. The self-aware humor that the MCU has always done so well ends up working against Infinity War in the end. Marvels just kidding sensibility was a refreshing counterweight to the fashionable darkness of early DC Universe movies, as well as to the dark & gritty mode that became a global pop culture default after the success of Christopher Nolans Batman movies. But if there was ever a time for Marvel to bust out the Zack Snyder-style, heavy-metal gloom and slap the smirk off its own face, its here, in a film thats mostly about summoning the courage to fight battles that you know you cant win, and accepting the likelihood of dying on your knees with your head held high.\""
   ]
  },
  {
   "cell_type": "code",
   "execution_count": 83,
   "metadata": {},
   "outputs": [
    {
     "name": "stdout",
     "output_type": "stream",
     "text": [
      "Plaintext: \n",
      "anotherdownsideofpackingsomanypeopleintoonefilm—somanythattheyapparentlyhadtocutafewthefilmsimdbpagelistsnumerousmajorplayerswhoarenowheretobeseen—isthatyoustarttonoticethatcertaincharactersareredundantvariationsonphotocopiesofothercharactersarealizationthatyoumightnothavehadifyouwerewerewatchingthemstarintheirownselfcontainedmoviesputtingtonypeterparkerandpeterquillinthesamescenesforinstancemightsoundlikeaslamdunkbutonceyouspendafewminuteswiththemthebarrageofwiseasserybecomesgratingitslikebeingstuckatapartywhereeveryotherguyintheroommistakenlybelieveshesthefunnyonethescenesbetweenthorandtheguardiansaremuchbetterbecausethorplaysthestraightmantoquillwhoisthreatenedbyhisawesomemasculinebeautyasisoftenthecaseinrussodirectedmarvelmoviesthehumorcomesacrossmorevividlythantheactioncaptainamericathewintersoldierwithitsparanoidthrillerstylingsandbrutalclosequartersactionisstilltheirzeniththemoviemakesexcellentuseofthorandhistricksterbrotherlokitomhiddlestonandgiveshemsworthmorechancestoshowoffhisformidabledeadpanwhenrocketexpressesamazementthathecanspeakgrootslanguageheexplainstheytaughtitonasgard—itwasanelectivebutthejokingarounddoesntsomuchcomplementthefilmsdarkmaterialasclashwithitandundermineittheselfawarehumorthatthemcuhasalwaysdonesowellendsupworkingagainstinfinitywarintheendmarvelsjustkiddingsensibilitywasarefreshingcounterweighttothefashionabledarknessofearlydcuniversemoviesaswellastothedarkgrittymodethatbecameaglobalpopculturedefaultafterthesuccessofchristophernolansbatmanmoviesbutiftherewaseveratimeformarveltobustoutthezacksnyderstyleheavymetalgloomandslapthesmirkoffitsownfaceitshereinafilmthatsmostlyaboutsummoningthecouragetofightbattlesthatyouknowyoucantwinandacceptingthelikelihoodofdyingonyourkneeswithyourheadheldhigh\n"
     ]
    }
   ],
   "source": [
    "#removing punctuation marks\n",
    "plaintext = text(text1)\n",
    "print(\"Plaintext: \")\n",
    "print(plaintext)"
   ]
  },
  {
   "cell_type": "code",
   "execution_count": 92,
   "metadata": {},
   "outputs": [
    {
     "name": "stdout",
     "output_type": "stream",
     "text": [
      "Encrypted Text: \n",
      "xklqeboaltkpfablcmxzhfkdpljxkvmblmibfkqllkbcfijpljxkvqexqqebvxmmxobkqivexaqlzrqxcbtqebcfijpfjaymxdbifpqpkrjbolrpjxglomixvboptelxobkltebobqlybpbbkfpqexqvlrpqxoqqlklqfzbqexqzboqxfkzexoxzqbopxobobarkaxkqsxofxqflkplkmelqlzlmfbplclqebozexoxzqbopxobxifwxqflkqexqvlrjfdeqklqexsbexafcvlrtbobtbobtxqzefkdqebjpqxofkqebfoltkpbiczlkqxfkbajlsfbpmrqqfkdqlkvmbqbomxohboxkambqbonrfiifkqebpxjbpzbkbpclofkpqxkzbjfdeqplrkaifhbxpixjarkhyrqlkzbvlrpmbkaxcbtjfkrqbptfqeqebjqebyxooxdblctfpbxppbovybzljbpdoxqfkdfqpifhbybfkdpqrzhxqxmxoqvtebobbsbovlqebodrvfkqebolljjfpqxhbkivybifbsbpebpqebcrkkvlkbqebpzbkbpybqtbbkqeloxkaqebdrxoafxkpxobjrzeybqqboybzxrpbqelomixvpqebpqoxfdeqjxkqlnrfiitelfpqeobxqbkbayvefpxtbpljbjxpzrifkbybxrqvxpfplcqbkqebzxpbfkorpplafobzqbajxosbijlsfbpqeberjlozljbpxzolppjlobsfsfaivqexkqebxzqflkzxmqxfkxjbofzxqebtfkqbopliafbotfqefqpmxoxklfaqeofiibopqvifkdpxkayorqxizilpbnrxoqbopxzqflkfppqfiiqebfowbkfqeqebjlsfbjxhbpbuzbiibkqrpblcqeloxkaefpqofzhpqboyolqeboilhfqljefaaibpqlkxkadfsbpebjptloqejlobzexkzbpqlpeltlccefpclojfaxyibabxamxktebkolzhbqbumobppbpxjxwbjbkqqexqebzxkpmbxhdollqpixkdrxdbebbumixfkpqebvqxrdeqfqlkxpdxoafqtxpxkbibzqfsbyrqqebglhfkdxolrkaalbpkqpljrzezljmibjbkqqebcfijpaxohjxqbofxixpzixpetfqefqxkarkabojfkbfqqebpbicxtxoberjloqexqqebjzrexpxitxvpalkbpltbiibkaprmtlohfkdxdxfkpqfkcfkfqvtxofkqebbkajxosbipgrpqhfaafkdpbkpfyfifqvtxpxobcobpefkdzlrkqbotbfdeqqlqebcxpeflkxyibaxohkbpplcbxoivazrkfsbopbjlsfbpxptbiixpqlqebaxohdofqqvjlabqexqybzxjbxdilyximlmzriqrobabcxriqxcqboqebprzzbpplczeofpqlmeboklixkpyxqjxkjlsfbpyrqfcqebobtxpbsboxqfjbclojxosbiqlyrpqlrqqebwxzhpkvabopqvibebxsvjbqxidilljxkapixmqebpjfohlccfqpltkcxzbfqpebobfkxcfijqexqpjlpqivxylrqprjjlkfkdqebzlroxdbqlcfdeqyxqqibpqexqvlrhkltvlrzxkqtfkxkaxzzbmqfkdqebifhbifellalcavfkdlkvlrohkbbptfqevlroebxaebiaefde\n"
     ]
    }
   ],
   "source": [
    "#encrypted text\n",
    "shift = -3\n",
    "encryptext_text = encryption(plaintext,shift)\n",
    "print(\"Encrypted Text: \")\n",
    "print(''.join(encryptext_text))"
   ]
  },
  {
   "cell_type": "code",
   "execution_count": 93,
   "metadata": {},
   "outputs": [],
   "source": [
    "#frequency distribution in encrypted text\n",
    "textdict = {'a':0,'b':0,'c':0,'d':0,'e':0,'f':0,'g':0,'h':0,'i':0,'j':0,'k':0,'l':0,'m':0,'n':0,'o':0,'p':0,'q':0,'r':0,'s':0,'t':0,'u':0,'v':0,'w':0,'x':0,'y':0,'z':0}\n",
    "for i in [p for p in encryptext_text]:\n",
    "    if i in textdict:\n",
    "        textdict[i] += 1\n",
    "for j in textdict:\n",
    "    textdict[j] = round((100*textdict[j])/len(plaintext),2)"
   ]
  },
  {
   "cell_type": "code",
   "execution_count": 94,
   "metadata": {},
   "outputs": [],
   "source": [
    "data = pd.DataFrame(data = list(dictionary.values()),index = list(dictionary.keys()), columns = [\"original\"])\n",
    "data[\"encrypted text\"] = list(textdict.values())\n"
   ]
  },
  {
   "cell_type": "code",
   "execution_count": 95,
   "metadata": {},
   "outputs": [
    {
     "data": {
      "text/plain": [
       "<matplotlib.axes._subplots.AxesSubplot at 0x22937021848>"
      ]
     },
     "execution_count": 95,
     "metadata": {},
     "output_type": "execute_result"
    },
    {
     "data": {
      "image/png": "iVBORw0KGgoAAAANSUhEUgAAAX4AAAD4CAYAAADrRI2NAAAABHNCSVQICAgIfAhkiAAAAAlwSFlzAAALEgAACxIB0t1+/AAAADh0RVh0U29mdHdhcmUAbWF0cGxvdGxpYiB2ZXJzaW9uMy4xLjMsIGh0dHA6Ly9tYXRwbG90bGliLm9yZy+AADFEAAAUfklEQVR4nO3debBkVX3A8e9PBiIgCjhvFIFxwEJKyyjiaIgLKKgZFkcQTGHUQtFMYYKAxAVDyqWsJK6o0RTUCIgliwuLgigyQZFYBegMggwOisri4MCModyNiP7yx71jXj16OT3M7X5vzvdT1dX3dp9fn9977/SvT9/tRWYiSarHwyadgCRpvCz8klQZC78kVcbCL0mVsfBLUmXmTTqBEvPnz89FixZNOg1JmlNWrVr1s8ycmvn4nCj8ixYtYuXKlZNOQ5LmlIi4s9fjbuqRpMpY+CWpMhZ+SaqMhV+SKmPhl6TKWPglqTKdFf6IODsi1kfE6mmPfSAibo2I70bEJRGxY1f9S5J663LGfw6wZMZjK4CnZOZTgR8Ab++wf0lSD50V/sy8BrhvxmNXZuYD7ep1wG5d9S9J6m2SZ+4eC3y235MRsQxYBrBw4cJx5TQ2Xz/z0KJ2L3j95R1nIqk2E9m5GxGnAg8A5/Vrk5nLM3NxZi6emnrQpSYkSZto7DP+iDgGOAw4KP2/j5I0dmMt/BGxBHgbcEBm/nacfUuSGl0eznkBcC2wd0SsjYjXAR8HdgBWRMSNEXFGV/1LknrrbMafma/o8fBZXfUnSSrjmbuSVBkLvyRVxsIvSZWx8EtSZSz8klQZC78kVcbCL0mVsfBLUmUs/JJUGQu/JFXGwi9JlbHwS1JlLPySVBkLvyRVxsIvSZWx8EtSZSz8klQZC78kVcbCL0mVsfBLUmUs/JJUGQu/JFXGwi9JlbHwS1JlLPySVJnOCn9EnB0R6yNi9bTHdo6IFRFxW3u/U1f9S5J663LGfw6wZMZjpwBXZeZewFXtuiRpjDor/Jl5DXDfjIdfCnyqXf4UcHhX/UuSehv3Nv7HZOY6gPZ+wZj7l6TqzdqduxGxLCJWRsTKDRs2TDodSdpijLvw3xsRuwC09+v7NczM5Zm5ODMXT01NjS1BSdrSjbvwXwoc0y4fA3xxzP1LUvW6PJzzAuBaYO+IWBsRrwPeC7woIm4DXtSuS5LGaF5XL5yZr+jz1EFd9SlJGm7W7tyVJHXDwi9JlbHwS1JlLPySVBkLvyRVxsIvSZWx8EtSZSz8klQZC78kVcbCL0mV6eySDZI0yEUX/ayo3ZFHzu84k/o445ekylj4JakyFn5JqoyFX5IqY+GXpMpY+CWpMhZ+SaqMhV+SKmPhl6TKWPglqTIWfkmqjIVfkipj4Zekylj4JakyFn5JqsxECn9EvCkibomI1RFxQUQ8fBJ5SFKNxv6PWCJiV+AE4MmZ+buI+BxwNHDOoLgNp59b3MfUG171UFKUpC3apDb1zAO2jYh5wHbATyeUhyRVZ+yFPzPvBj4I3AWsA36RmVfObBcRyyJiZUSs3LBhw7jTlKQt1tgLf0TsBLwU2AN4HLB9RDxo20xmLs/MxZm5eGpqatxpStIWaxKbel4I3J6ZGzLzD8DFwLMnkIckVWkShf8uYL+I2C4iAjgIWDOBPCSpSpPYxn89cCFwA3Bzm8PycechSbUa++GcAJn5TuCdk+hbmi1ecuElRe0uO+qIjjNRbTxzV5IqY+GXpMpY+CWpMhZ+SaqMhV+SKmPhl6TKTORwTm1ZTv38kuK2//ryKzrMRFIJZ/ySVJmBM/6IuAzIfs9n5tLNnpEkqVPDNvV8cCxZSJLGZmDhz8xvjCsRSdJ4FO3cjYi9gH8Hngz8+f/jZuaeHeUlSepI6VE9n6S5qNqHgRcArwWiq6SkueawC88ravelo17ZcSbScKVH9WybmVcBkZl3Zua7gAO7S0uS1JXSGf//RsTDgNsi4njgbmBBd2lJkrpSOuM/CdgOOAF4BvBq4JiukpIkdadoxp+Z324Xf02zfV+SNEeVHtXzROAtwOOnx2Sm2/klaY4p3cb/eeAM4BPAH7tLR5LUtdLC/0Bmnt5pJpKksSjduXtZRPxDROwSETtvvHWamSSpE6Uz/o1H8Lxl2mMJeOauJM0xpUf17NF1IpKk8Rh2WeYDM/NrEfGyXs9n5sXdpCVJ6sqwGf8BwNeAl/R4LgELvyROu+SeonYnH/HYjjNRiWGXZX5ne79ZT9qKiB2BM4Gn0HyAHJuZ127OPiRJvZWewHVyj4d/AazKzBs3od+PAldk5lERsQ3N5SAkSWNQejjnYuA4YNf2tgx4PvCJiHjrKB1GxCOB/YGzADLz/sz8+SivIUnadKWHcz4a2Dczfw0QEe8ELqQp4KuA94/Q557ABuCTEfG0Nv7EzPzN9EYRsYzmA4aFCxeO8PKSHoqjL769qN1nXubBfnNV6Yx/IXD/tPU/AI/PzN8Bvx+xz3nAvsDpmfl04DfAKTMbZebyzFycmYunpqZG7EKS1E/pjP984LqI+GK7/hLggojYHvjeiH2uBdZm5vXt+oX0KPyajI+e/zfFbU/8u692mImkrpSewPWeiPgy8Fyaf7l4XGaubJ8e6X/JZeY9EfGTiNg7M78PHMToHx6SpE007ASuR2bmL9vr8tze3jY+t3Nm3reJ/b4ROK89oufHeI1/SRqbYTP+84HDaHbA5rTHg4dwrZ72ENDFmxIrSXpohp3AdVhEBHBAZt41ppwkSR0aelRPZiZwyRhykSSNQenhnNdFxDM7zUSSNBalh3O+ADguIu6gOe4+aL4MPLWrxCRJ3Sgt/AcDOwHPa9evAbzMgiTNQaWbeg4HPg3MB6ba5aVdJSVJ6k7pjP91wH4br6cTEe8DrgU+1lVikqRulM74A/jjtPU/to9JkuaY0hn/J4HrI2LjYZ2H015WWZI0t5Req+e0iLia/79Wz2sz8ztdJiZJ6kbpjJ/MvAG4ocNcJEljULqNX5K0hbDwS1JlLPySVBkLvyRVxsIvSZWx8EtSZSz8klQZC78kVcbCL0mVsfBLUmUs/JJUGQu/JFWm+CJt6u/G019S1G6fN1zWcSaSNJwzfkmqjIVfkiozscIfEVtFxHci4kuTykGSajTJGf+JwJoJ9i9JVZpI4Y+I3YBDgTMn0b8k1WxSR/V8BHgrsEO/BhGxDFgGsHDhwjGlpS3NoRefVtTu8ped3HEm0uwx9hl/RBwGrM/MVYPaZebyzFycmYunpqbGlJ0kbfkmsannOcDSiLgD+AxwYEScO4E8JKlKYy/8mfn2zNwtMxcBRwNfy8xXjTsPSaqVx/FLUmUmesmGzLwauHqSOUhSbZzxS1JlLPySVBkLvyRVxsIvSZWx8EtSZSz8klQZC78kVcbCL0mVsfBLUmUs/JJUGQu/JFXGwi9JlbHwS1JlJnp1TkkaxdXnbihq9/xX+V/7BnHGL0mVsfBLUmXc1DPD2o8fW9Rut+PP7jgTSeqGM35JqowzfmmGQy/6RFG7y4/8+44zkbrhjF+SKmPhl6TKWPglqTIWfkmqjDt355BLzj64qN0Rx36l40wkzWXO+CWpMmMv/BGxe0R8PSLWRMQtEXHiuHOQpJpNYlPPA8A/ZeYNEbEDsCoiVmTm9yaQiyRNxL3/8c3ito854bmbte+xF/7MXAesa5d/FRFrgF0BC7+kWWHd+9cVtdvlrbt0nEk3JrpzNyIWAU8Hru/x3DJgGcDChQvHmteW4pxPvbi47WuOubLDTCTNJhPbuRsRjwAuAk7KzF/OfD4zl2fm4sxcPDXltbUlaXOZSOGPiK1piv55mXnxJHKQpFqNfVNPRARwFrAmM08bd//SXHX4hSuK237hqBd1mInmuknM+J8DvBo4MCJubG+HTCAPSarSJI7q+SYQ4+5XktTwzF1JqoyFX5IqY+GXpMps0VfnXH9G2UFDC447ueNMJGn2cMYvSZWx8EtSZSz8klQZC78kVcbCL0mVsfBLUmW26MM5Jenm5euL2v3lsgUdZzJ7OOOXpMpY+CWpMhZ+SaqMhV+SKmPhl6TKWPglqTIezqk545Av/HNRuy8f/m8dZyLNbc74JakyFn5JqoyFX5IqY+GXpMpY+CWpMhZ+SaqMhV+SKmPhl6TKTOQErohYAnwU2Ao4MzPfO4k8JGlzuOe01cVtH3vyUzrMpMzYC39EbAX8J/AiYC3w7Yi4NDO/N+5cNDlLLj2kqN0VS7/ccSZbtiMv+lZx24uOfFaHmWg2mcSM/1nADzPzxwAR8RngpYCFX5IGWP/xy4vaLTj+0IHPR2ZujnyKRcRRwJLMfH27/mrgrzLz+BntlgHL2tW9ge/3eLn5wM9GTMGY8cTM1ryMmb15GbP5+3h8Zk496NHMHOsNeDnNdv2N668GPraJr7XSmNkZM1vzMmb25mXM+PKaxFE9a4Hdp63vBvx0AnlIUpUmUfi/DewVEXtExDbA0cClE8hDkqo09p27mflARBwPfJXmcM6zM/OWTXy55cbM2pjZmpcxszcvY8aU19h37kqSJsszdyWpMhZ+SarMnC38EbEkIr4fET+MiFMK2p8dEesjovjc6ojYPSK+HhFrIuKWiDixIObhEfGtiLipjXl3YV9bRcR3IuJLhe3viIibI+LGiFhZGLNjRFwYEbe2P9NfD2m/d/v6G2+/jIiTCvp5U/uzr46ICyLi4QUxJ7btb+nXR6+/YUTsHBErIuK29n6ngpiXt/38KSIWF/bzgfb39t2IuCQidiyIeU/b/saIuDIiHjeo/bTn3hwRGRHzC/p4V0TcPe1vdMiwmPbxN7bvn1si4v0F/Xx2Wh93RMSNBTH7RMR1G8doRDyrIOZpEXFtO7Yvi4hHTnuu5/tx0BgYENN3DAyI6TsGBsQMGgMD60uvcTCgn4Hj4EFGPf5zNtxodgr/CNgT2Aa4CXjykJj9gX2B1SP0swuwb7u8A/CDgn4CeES7vDVwPbBfQV8nA+cDXyrM7Q5g/oi/t08Br2+XtwF2HPF3fg/NCSGD2u0K3A5s265/DnjNkJinAKuB7WgOOPgvYK+SvyHwfuCUdvkU4H0FMU+iOSnwamBxYT8vBua1y+8r7OeR05ZPAM4YNh5pDnX+KnDnzL9vnz7eBbx5lHEPvKD9Hf9Fu75glPcK8CHgHQX9XAkc3C4fAlxdEPNt4IB2+VjgPdOe6/l+HDQGBsT0HQMDYvqOgQExg8ZA3/rSbxwM6GfgOJh5m6sz/j9f9iEz7wc2Xvahr8y8BrhvlE4yc11m3tAu/wpYQ1PYBsVkZv66Xd26vQ3cgx4RuwGHAmeOkt8o2pnT/sBZbZ73Z+bPR3iJg4AfZeadBW3nAdtGxDyaYj7sPI0nAddl5m8z8wHgG8ARMxv1+Ru+lOYDjfb+8GExmbkmM3udCT4o5so2N4DraM4/GRbzy2mr2zNtHAwYjx8G3kqPMbOJY7hXzBuA92bm79s260v7iYgA/ha4oCAmgY0z9kcxYxz0idkbuKZdXgEcOa19v/dj3zHQL2bQGBgQ03cMDIgZNAYG1Zee42BTalIvc7Xw7wr8ZNr6Wjbhhx9FRCwCnk4zgx/Wdqv2q/B6YEVmDov5CM0f+U8jpJTAlRGxKprLWwyzJ7AB+GQ0m5TOjIjtR+jvaGa82XsmlXk38EHgLmAd8IvMvHJI2Gpg/4h4dERsRzM73H1IzEaPycx1bd/rgAWFcQ/FscBXShpGxL9GxE+AVwLvGNJ2KXB3Zt40Yj7Ht5sTzo4Zm7r6eCLwvIi4PiK+ERHPHKGv5wH3ZuZtBW1PAj7Q/vwfBN5eELMaWNouv5w+42DG+7FoDIzyHi6I6TsGZsaUjIHpMaXjoEduxeNgrhb+6PFYZ8elRsQjgIuAk2Z8gveUmX/MzH1oZgTPioi+12GNiMOA9Zm5asS0npOZ+wIHA/8YEfsPaT+P5mv16Zn5dOA3NF+Lh4rmRLulwOcL2u5EMwPbA3gcsH1EvGpQTGauofnqvAK4gmbT3QODYiYlIk6lye28kvaZeWpm7t62P75fu/YD71SGfDj0cDrwBGAfmg/aDxXEzAN2AvYD3gJ8rp3Jl3gFBROA1huAN7U//5tov20OcSzNeF5Fsynj/pkNRn0/bu6YQWOgV8ywMTA9pn3doeOgRz8jjYO5WvjHdtmHiNia5hd8XmZePEpsuynlamDJgGbPAZZGxB00m6wOjIhzC177p+39euASms1fg6wF1k779nEhzQdBiYOBGzLz3oK2LwRuz8wNmfkH4GLg2cOCMvOszNw3M/en+fpfMqMEuDcidgFo79cPab/JIuIY4DDgldluZB3B+UzbbNHDE2g+LG9qx8JuwA0R8dhBL5qZ97YTjT8Bn2D4OIBmLFzcbpb8Fs03zflDYmg33b0M+GxBHwDH0Pz9oZk0DM0tM2/NzBdn5jNoPmB+NCOHXu/HgWNgU97D/WIGjYGCfh40BnrEDB0HvfoZdRzM1cI/lss+tLOgs4A1mXlaYczUxr39EbEtTSG8tV/7zHx7Zu6WmYtofo6vZebAGXJEbB8RO2xcptnpNPBopcy8B/hJROzdPnQQ5ZfCHmWWdxewX0Rs1/7+DqLZDjlQRCxo7xfSFJfS/i6lKTC0918sjBtJNP886G3A0sz8bWHMXtNWlzJ4HNycmQsyc1E7FtbS7MS7Z0gfu0xbPYIh46D1BeDANv6JNDv6S64I+ULg1sxcW9AWmsnYAe3ygRR8mE8bBw8D/gU4Y9pz/d6PfcfAJr6He8YMGgMDYvqOgV4xw8bBgH5GGwdZuBd4tt1otgP/gGZGcGpB+wtovgL9of1lvq4g5rk0m5C+C9zY3g4ZEvNU4DttzGpmHP0wJPb5FBzVQ7O9/qb2dkvJz9/G7QOsbHP7ArBTQcx2wP8Ajxrh53h3O8BXA5+mPXpkSMx/03wQ3QQcVPo3BB4NXEVTVK4Cdi6IOaJd/j1wL/DVgpgf0uxX2jgOziiIuaj9HXwXuIxmZ1/ReKTHUVt9+vg0cHPbx6XALgUx2wDntrndABxY8l4BzgGOG+Fv81xgVfs3vR54RkHMiTTv6x8A76W9usCg9+OgMTAgpu8YGBDTdwwMiBk0BobWl5njYEA/A8fBzJuXbJCkyszVTT2SpE1k4Zekylj4JakyFn5JqoyFX5IqY+GXpMpY+CWpMv8H/+SzZsH9UvUAAAAASUVORK5CYII=\n",
      "text/plain": [
       "<Figure size 432x288 with 1 Axes>"
      ]
     },
     "metadata": {
      "needs_background": "light"
     },
     "output_type": "display_data"
    }
   ],
   "source": [
    "#frequency distribution\n",
    "sns.barplot(x = list(np.arange(0,26)), y = data[\"original\"])"
   ]
  },
  {
   "cell_type": "code",
   "execution_count": 96,
   "metadata": {},
   "outputs": [
    {
     "data": {
      "text/plain": [
       "<matplotlib.axes._subplots.AxesSubplot at 0x2293817db88>"
      ]
     },
     "execution_count": 96,
     "metadata": {},
     "output_type": "execute_result"
    },
    {
     "data": {
      "image/png": "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\n",
      "text/plain": [
       "<Figure size 432x288 with 1 Axes>"
      ]
     },
     "metadata": {
      "needs_background": "light"
     },
     "output_type": "display_data"
    }
   ],
   "source": [
    "#frequency distribution in encrypted text\n",
    "sns.barplot(x = list(np.arange(0,26)), y = data[\"encrypted text\"])"
   ]
  },
  {
   "cell_type": "code",
   "execution_count": 97,
   "metadata": {},
   "outputs": [],
   "source": [
    "def decryption(dictionary,textdict):\n",
    "    #calculating error for each shift and appending it to e\n",
    "    e = []\n",
    "    for i in range(26):\n",
    "        e1 = 0\n",
    "        for j in range(26):\n",
    "            c = j+i\n",
    "            if j+i >= 26:\n",
    "                c = c%26\n",
    "            e1+=((textdict[list(textdict.keys())[c]]-dictionary[list(dictionary.keys())[j]])**2)**0.5\n",
    "        e.append(e1)\n",
    "    #generating key    \n",
    "    #key: key that code is encrypted with, alpha: alphabets in order. concatenated_key is the concatenated version\n",
    "    key = encryption(\"abcdefghijklmnopqrstuvwxyz\",e.index(min(e)))\n",
    "    alpha = [i for i in \"abcdefghijklmnopqrstuvwxyz\"]\n",
    "    concatenated_key = []\n",
    "    for k in range(26):\n",
    "        concatenated_key.append(\"%c = %c\"%(alpha[k],key[k]))\n",
    "    #returning the shift and key\n",
    "    return(e,e.index(min(e)),concatenated_key)"
   ]
  },
  {
   "cell_type": "code",
   "execution_count": 98,
   "metadata": {},
   "outputs": [],
   "source": [
    "error,shift_key,key = decryption(dictionary,textdict)"
   ]
  },
  {
   "cell_type": "code",
   "execution_count": 99,
   "metadata": {},
   "outputs": [
    {
     "data": {
      "text/plain": [
       "[<matplotlib.lines.Line2D at 0x229382beb48>]"
      ]
     },
     "execution_count": 99,
     "metadata": {},
     "output_type": "execute_result"
    },
    {
     "data": {
      "image/png": "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\n",
      "text/plain": [
       "<Figure size 432x288 with 1 Axes>"
      ]
     },
     "metadata": {
      "needs_background": "light"
     },
     "output_type": "display_data"
    }
   ],
   "source": [
    "plt.plot(error)"
   ]
  },
  {
   "cell_type": "code",
   "execution_count": 100,
   "metadata": {},
   "outputs": [
    {
     "name": "stdout",
     "output_type": "stream",
     "text": [
      "Shift =  23\n",
      "Key =  ['a = x', 'b = y', 'c = z', 'd = a', 'e = b', 'f = c', 'g = d', 'h = e', 'i = f', 'j = g', 'k = h', 'l = i', 'm = j', 'n = k', 'o = l', 'p = m', 'q = n', 'r = o', 's = p', 't = q', 'u = r', 'v = s', 'w = t', 'x = u', 'y = v', 'z = w']\n"
     ]
    }
   ],
   "source": [
    "print(\"Shift = \",shift_key)\n",
    "print(\"Key = \",key)"
   ]
  },
  {
   "cell_type": "code",
   "execution_count": null,
   "metadata": {},
   "outputs": [],
   "source": []
  },
  {
   "cell_type": "code",
   "execution_count": null,
   "metadata": {},
   "outputs": [],
   "source": []
  },
  {
   "cell_type": "code",
   "execution_count": null,
   "metadata": {},
   "outputs": [],
   "source": []
  }
 ],
 "metadata": {
  "kernelspec": {
   "display_name": "Python 3",
   "language": "python",
   "name": "python3"
  },
  "language_info": {
   "codemirror_mode": {
    "name": "ipython",
    "version": 3
   },
   "file_extension": ".py",
   "mimetype": "text/x-python",
   "name": "python",
   "nbconvert_exporter": "python",
   "pygments_lexer": "ipython3",
   "version": "3.7.6"
  }
 },
 "nbformat": 4,
 "nbformat_minor": 4
}
